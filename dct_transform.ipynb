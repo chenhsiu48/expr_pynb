{
 "cells": [
  {
   "cell_type": "markdown",
   "metadata": {},
   "source": [
    "# Simulating DCT Transform with CNN\n",
    "\n",
    "2020-09-21 Chen-hsiu Huang\n",
    "\n",
    "This notebook uses a typical [convolutional auto-encoder](https://blog.keras.io/building-autoencoders-in-keras.html) (CAE) to simulate the forward and inverse DCT transform used in JPEG image compression. To completely mimic DCT transform, I use the same 8x8 image block as JPEG's 8x8 DCT transform and design the bottleneck layer as a 64-dimensional vector, which is the same as a typical 8x8 DCT coefficient block. Let's see how good a CNN can approximate the DCT transform.  \n",
    "\n",
    "First of all, let's import the necessary modules and define some helper functions. "
   ]
  },
  {
   "cell_type": "code",
   "execution_count": null,
   "metadata": {},
   "outputs": [],
   "source": [
    "import torch\n",
    "import torch.nn as nn\n",
    "import torch.nn.functional as F\n",
    "\n",
    "from torchvision.datasets.vision import VisionDataset\n",
    "from torchvision import transforms\n",
    "from PIL import Image\n",
    "import scipy\n",
    "import numpy as np\n",
    "from torch.optim import Adam\n",
    "from torch.autograd import Variable\n",
    "import sys\n",
    "import glob\n",
    "import random\n",
    "import datetime\n",
    "import skimage.metrics\n",
    "from matplotlib import pyplot as plt \n",
    "\n",
    "random.seed(datetime.datetime.now())\n",
    "\n",
    "def dct2(a):\n",
    "    return scipy.fft.dct( scipy.fft.dct( a, axis=0, norm='ortho' ), axis=1, norm='ortho' )\n",
    "\n",
    "def idct2(a):\n",
    "    return scipy.fft.idct( scipy.fft.idct( a, axis=0 , norm='ortho'), axis=1 , norm='ortho')\n",
    "\n",
    "def non_overlap_crop(im, patch_size=64, stride=64):\n",
    "    w, h = im.size\n",
    "    patches = []\n",
    "    dcts = []\n",
    "    rects = []\n",
    "    for i in range(0, h, stride):\n",
    "        if i + stride > h:\n",
    "            continue\n",
    "        for j in range(0, w, stride):\n",
    "            if j + stride > w:\n",
    "                continue\n",
    "            px = np.array(im.crop((j, i, j + patch_size, i + patch_size)))\n",
    "            dcts.append(dct2(px))\n",
    "            patches.append(px)\n",
    "            rects.append((j, i))\n",
    "    return patches, dcts, rects\n",
    "\n",
    "def predict_image(model, patches, batch_size):\n",
    "    re_px = []\n",
    "    re_dct = []\n",
    "    with torch.no_grad():\n",
    "        for i in range(0, len(patches), batch_size):\n",
    "            patch = patches[i:i + batch_size]\n",
    "            patch = torch.stack(patch).to(device)\n",
    "            r, c = model(patch)\n",
    "            r = r.squeeze(1).cpu().numpy()\n",
    "            r = r.clip(0, 255).astype(np.uint8)\n",
    "            c = c.cpu().numpy()\n",
    "            \n",
    "            for j in range(r.shape[0]):\n",
    "                re_px.append(r[j])\n",
    "                re_dct.append(c[j])\n",
    "    return re_px, re_dct\n",
    "\n",
    "def reconstruct_image(re_px, rects, im_size):\n",
    "    canvas = Image.new('L', im_size)\n",
    "    for i in range(len(re_px)):\n",
    "        pos = rects[i]\n",
    "        px = Image.fromarray(re_px[i])\n",
    "        canvas.paste(px, (pos[0], pos[1], pos[0] + BK_SIZE, pos[1] + BK_SIZE))\n",
    "    return canvas\n",
    "\n",
    "def estimate_image(re_px, re_dct, patches, dcts, rects, im):\n",
    "    canvas = Image.new('L', im.size)\n",
    "    err_px, err_dct = 0, 0\n",
    "    for i in range(len(re_px)):\n",
    "        pos = rects[i]\n",
    "        rpx = Image.fromarray(re_px[i])\n",
    "        px = patches[i].squeeze(0).cpu().numpy().astype(int)\n",
    "        dct = dcts[i].numpy()\n",
    "        rdct = re_dct[i]\n",
    "        err_px += (np.linalg.norm(px - rpx, ord=1) / (BK_SIZE * BK_SIZE))\n",
    "        err_dct += (np.linalg.norm(dct - rdct, ord=1) / (BK_SIZE * BK_SIZE))\n",
    "        canvas.paste(rpx, (pos[0], pos[1], pos[0] + BK_SIZE, pos[1] + BK_SIZE))\n",
    "    err_px /= len(patches)\n",
    "    err_dct /= len(patches)\n",
    "    psnr = skimage.metrics.peak_signal_noise_ratio(np.array(im), np.array(canvas))\n",
    "    return psnr, err_px, err_dct\n"
   ]
  },
  {
   "cell_type": "markdown",
   "metadata": {},
   "source": [
    "## Network Architecture\n",
    "\n",
    "Here I use two convolution layers of 3x3 kernel size in both encoder and decoder. In the encoder, the input 8x8 image is down-sampled twice with max-pooling to form a 2x2 filter with 16 feature maps, then flattened to a 64-dimensional vector as latent code (bottleneck layer). Please note that I don't use the ```ReLU()``` function after the second convolution layer because we want to preserve the negative values to simulate DCT coefficients. \n",
    "\n",
    "Our goal is to approximate the DCT transform so that the reconstructed 8x8 image is similar to the input image, and the latent code is very close to the transformed 8x8 DCT coefficients. "
   ]
  },
  {
   "cell_type": "code",
   "execution_count": null,
   "metadata": {},
   "outputs": [],
   "source": [
    "EPOCHS = 100\n",
    "BK_SIZE = 8\n",
    "BATCH_SIZE = 256\n",
    "MODEL_FILE = 'pseudo_trans.pth'\n",
    "\n",
    "class JDCTNet(nn.Module):\n",
    "    def __init__(self):\n",
    "        super(JDCTNet, self).__init__()\n",
    "        self.encoder = nn.Sequential(\n",
    "            nn.Conv2d(1, 32, 3, padding=1),\n",
    "            nn.ReLU(),\n",
    "            nn.MaxPool2d(2, stride=2),\n",
    "            nn.Conv2d(32, 16, 3, padding=1),\n",
    "            #nn.ReLU(),\n",
    "            nn.MaxPool2d(2, stride=2),\n",
    "        )\n",
    "        self.code = nn.Linear(16 * 8 * 8, BK_SIZE * BK_SIZE)\n",
    "        self.decoder = nn.Sequential(\n",
    "            nn.ConvTranspose2d(16, 32, 2, stride=2),\n",
    "            nn.ReLU(),\n",
    "            nn.ConvTranspose2d(32, 1, 2, stride=2),\n",
    "            nn.ReLU(),\n",
    "        )\n",
    "    \n",
    "    def encode(self, x):\n",
    "        x = self.encoder(x)\n",
    "        return x\n",
    "\n",
    "    def decode(self, x):\n",
    "        x = self.decoder(x)\n",
    "        return x\n",
    "\n",
    "    def forward(self, x):\n",
    "        x = self.encode(x)\n",
    "        c = torch.flatten(x, 1)\n",
    "        r = self.decode(x)\n",
    "        return r, c\n"
   ]
  },
  {
   "cell_type": "markdown",
   "metadata": {},
   "source": [
    "## Dataset\n",
    "\n",
    "Now we need some images for training and testing. I choose the [UCID dataset](https://www.spiedigitallibrary.org/conference-proceedings-of-spie/5307/0000/UCID-an-uncompressed-color-image-database/10.1117/12.525375.full) to train our CNN<sup>1</sup>, and the [Kodak dataset](http://r0k.us/graphics/kodak/) is for testing. The training set gives us 2.7 million 8x8 patches to train our CNN. Then we verify the approximation result on the 24 images of Kodak. \n",
    "\n",
    "<sup>1</sup> The link in the original paper is not working. [This link](http://jasoncantarella.com/downloads/ucid.v2.tar.gz) works, but the file seems broken. I can only extract 886 images from it. "
   ]
  },
  {
   "cell_type": "code",
   "execution_count": 55,
   "metadata": {},
   "outputs": [
    {
     "name": "stderr",
     "output_type": "stream",
     "text": [
      "load 24/24 image\r"
     ]
    },
    {
     "name": "stdout",
     "output_type": "stream",
     "text": [
      "load from /home/chenhsiu/dataset/kodak/*.png, 24 images, 24 items\n"
     ]
    },
    {
     "name": "stderr",
     "output_type": "stream",
     "text": [
      "load 886/886 image\r"
     ]
    },
    {
     "name": "stdout",
     "output_type": "stream",
     "text": [
      "load from /home/chenhsiu/dataset/ucid/*.png, 886 images, 2721792 items\n"
     ]
    }
   ],
   "source": [
    "\n",
    "device = torch.device(\"cuda\" if torch.cuda.is_available() else \"cpu\")\n",
    "\n",
    "class JDCTDataset(VisionDataset):\n",
    "    def __init__(self, root, is_train=True, max_items=-1, transform=None, target_transform=None):\n",
    "        super(JDCTDataset, self).__init__(root, transform=transform, target_transform=target_transform)\n",
    "        \n",
    "        self.im_names = glob.glob(self.root)\n",
    "        if max_items != -1:\n",
    "            random.shuffle(self.im_names)\n",
    "            self.im_names = self.im_names[:max_items]\n",
    "        self.patches = [] \n",
    "        self.dcts = []\n",
    "        self.rects = []\n",
    "        self.images = []\n",
    "        for i, im_name in enumerate(self.im_names):\n",
    "            sys.stderr.write(f'load {i+1}/{len(self.im_names)} image\\r')\n",
    "            im = Image.open(im_name).convert('L')\n",
    "            patches, dcts, rects = non_overlap_crop(im, BK_SIZE, BK_SIZE)\n",
    "            t_patch = ()\n",
    "            t_dct = ()\n",
    "            for i in range(len(patches)):\n",
    "                t_patch = t_patch + (torch.from_numpy(patches[i]).float().unsqueeze(0), )\n",
    "                t_dct = t_dct + (torch.from_numpy(dcts[i]).float().view(BK_SIZE * BK_SIZE),)\n",
    "            if is_train:\n",
    "                self.patches += t_patch\n",
    "                self.dcts += t_dct\n",
    "            else:\n",
    "                self.patches.append(t_patch)\n",
    "                self.dcts.append(t_dct)\n",
    "                self.rects.append(rects)\n",
    "                self.images.append(im)\n",
    "        print(f'load from {root}, {len(self.im_names)} images, {len(self.patches)} items')\n",
    "\n",
    "    def __len__(self):\n",
    "        return len(self.patches)\n",
    "\n",
    "    def __getitem__(self, idx):\n",
    "        return self.patches[idx], self.dcts[idx]\n",
    "\n",
    "test_dataset = JDCTDataset('/home/chenhsiu/dataset/kodak/*.png', is_train=False)\n",
    "\n",
    "train_dataset = JDCTDataset('/home/chenhsiu/dataset/ucid/*.png', is_train=True, max_items=-1)\n",
    "loader = torch.utils.data.DataLoader(train_dataset, batch_size=BATCH_SIZE, shuffle=True, pin_memory=True)\n"
   ]
  },
  {
   "cell_type": "markdown",
   "metadata": {},
   "source": [
    "## Loss Function and Training \n",
    "\n",
    "I design the loss function as the sum of reconstruction error plus L1 loss between latent code and DCT coefficients. We train our network for 100 epochs, and the best one gives us an average PSNR 35.3742 on the Kodak dataset. Generally, the PSNR value of 35.37 is not considered as high, but the reconstruction error is only 0.4542 per-pixel, which is quite close to the original image. "
   ]
  },
  {
   "cell_type": "code",
   "execution_count": 69,
   "metadata": {},
   "outputs": [
    {
     "name": "stderr",
     "output_type": "stream",
     "text": [
      "Train Epoch: 1/100 [None] Average loss: 20.7227562        \n"
     ]
    },
    {
     "name": "stdout",
     "output_type": "stream",
     "text": [
      "Test  Epoch: 1/100 [None] PSNR: 32.2211, pixel error: 0.7666 DCT error: 8.7185                   \n"
     ]
    },
    {
     "name": "stderr",
     "output_type": "stream",
     "text": [
      "Train Epoch: 2/100 [1] Average loss: 13.3764963        \n"
     ]
    },
    {
     "name": "stdout",
     "output_type": "stream",
     "text": [
      "Test  Epoch: 2/100 [1] PSNR: 33.5901, pixel error: 0.5967 DCT error: 8.1481                   \n"
     ]
    },
    {
     "name": "stderr",
     "output_type": "stream",
     "text": [
      "Train Epoch: 3/100 [2] Average loss: 12.6641599        \n"
     ]
    },
    {
     "name": "stdout",
     "output_type": "stream",
     "text": [
      "Test  Epoch: 3/100 [2] PSNR: 33.3304, pixel error: 0.6344 DCT error: 7.8748                   \n"
     ]
    },
    {
     "name": "stderr",
     "output_type": "stream",
     "text": [
      "Train Epoch: 4/100 [3] Average loss: 12.3002634        \n"
     ]
    },
    {
     "name": "stdout",
     "output_type": "stream",
     "text": [
      "Test  Epoch: 4/100 [3] PSNR: 33.8480, pixel error: 0.5727 DCT error: 7.7523                   \n"
     ]
    },
    {
     "name": "stderr",
     "output_type": "stream",
     "text": [
      "Train Epoch: 5/100 [4] Average loss: 12.0645766        \n"
     ]
    },
    {
     "name": "stdout",
     "output_type": "stream",
     "text": [
      "Test  Epoch: 5/100 [4] PSNR: 34.0016, pixel error: 0.5481 DCT error: 7.6648                   \n"
     ]
    },
    {
     "name": "stderr",
     "output_type": "stream",
     "text": [
      "Train Epoch: 6/100 [5] Average loss: 11.9200669        \n"
     ]
    },
    {
     "name": "stdout",
     "output_type": "stream",
     "text": [
      "Test  Epoch: 6/100 [5] PSNR: 33.5406, pixel error: 0.5909 DCT error: 7.6199                   \n"
     ]
    },
    {
     "name": "stderr",
     "output_type": "stream",
     "text": [
      "Train Epoch: 7/100 [6] Average loss: 11.8084976        \n"
     ]
    },
    {
     "name": "stdout",
     "output_type": "stream",
     "text": [
      "Test  Epoch: 7/100 [6] PSNR: 33.9903, pixel error: 0.5498 DCT error: 7.5650                   \n"
     ]
    },
    {
     "name": "stderr",
     "output_type": "stream",
     "text": [
      "Train Epoch: 8/100 [7] Average loss: 11.7168513        \n"
     ]
    },
    {
     "name": "stdout",
     "output_type": "stream",
     "text": [
      "Test  Epoch: 8/100 [7] PSNR: 34.3179, pixel error: 0.5119 DCT error: 7.5226                   \n"
     ]
    },
    {
     "name": "stderr",
     "output_type": "stream",
     "text": [
      "Train Epoch: 9/100 [8] Average loss: 11.6490539        \n"
     ]
    },
    {
     "name": "stdout",
     "output_type": "stream",
     "text": [
      "Test  Epoch: 9/100 [8] PSNR: 33.9562, pixel error: 0.5661 DCT error: 7.4952                   \n"
     ]
    },
    {
     "name": "stderr",
     "output_type": "stream",
     "text": [
      "Train Epoch: 10/100 [8] Average loss: 11.5965481        \n"
     ]
    },
    {
     "name": "stdout",
     "output_type": "stream",
     "text": [
      "Test  Epoch: 10/100 [8] PSNR: 34.1657, pixel error: 0.5314 DCT error: 7.4974                   \n"
     ]
    },
    {
     "name": "stderr",
     "output_type": "stream",
     "text": [
      "Train Epoch: 11/100 [10] Average loss: 11.5420565        \n"
     ]
    },
    {
     "name": "stdout",
     "output_type": "stream",
     "text": [
      "Test  Epoch: 11/100 [10] PSNR: 34.1662, pixel error: 0.5428 DCT error: 7.4499                   \n"
     ]
    },
    {
     "name": "stderr",
     "output_type": "stream",
     "text": [
      "Train Epoch: 12/100 [11] Average loss: 11.4993101        \n"
     ]
    },
    {
     "name": "stdout",
     "output_type": "stream",
     "text": [
      "Test  Epoch: 12/100 [11] PSNR: 34.2223, pixel error: 0.5213 DCT error: 7.4537                   \n"
     ]
    },
    {
     "name": "stderr",
     "output_type": "stream",
     "text": [
      "Train Epoch: 13/100 [12] Average loss: 11.4624799        \n"
     ]
    },
    {
     "name": "stdout",
     "output_type": "stream",
     "text": [
      "Test  Epoch: 13/100 [12] PSNR: 34.2189, pixel error: 0.5276 DCT error: 7.4455                   \n"
     ]
    },
    {
     "name": "stderr",
     "output_type": "stream",
     "text": [
      "Train Epoch: 14/100 [13] Average loss: 11.4294923        \n"
     ]
    },
    {
     "name": "stdout",
     "output_type": "stream",
     "text": [
      "Test  Epoch: 14/100 [13] PSNR: 34.1092, pixel error: 0.5424 DCT error: 7.4027                   \n"
     ]
    },
    {
     "name": "stderr",
     "output_type": "stream",
     "text": [
      "Train Epoch: 15/100 [14] Average loss: 11.3992338        \n"
     ]
    },
    {
     "name": "stdout",
     "output_type": "stream",
     "text": [
      "Test  Epoch: 15/100 [14] PSNR: 34.2159, pixel error: 0.5263 DCT error: 7.4406                   \n"
     ]
    },
    {
     "name": "stderr",
     "output_type": "stream",
     "text": [
      "Train Epoch: 16/100 [14] Average loss: 11.3786544        \n"
     ]
    },
    {
     "name": "stdout",
     "output_type": "stream",
     "text": [
      "Test  Epoch: 16/100 [14] PSNR: 34.3443, pixel error: 0.5032 DCT error: 7.3858                   \n"
     ]
    },
    {
     "name": "stderr",
     "output_type": "stream",
     "text": [
      "Train Epoch: 17/100 [16] Average loss: 11.3571567        \n"
     ]
    },
    {
     "name": "stdout",
     "output_type": "stream",
     "text": [
      "Test  Epoch: 17/100 [16] PSNR: 34.0446, pixel error: 0.5291 DCT error: 7.3814                   \n"
     ]
    },
    {
     "name": "stderr",
     "output_type": "stream",
     "text": [
      "Train Epoch: 18/100 [16] Average loss: 11.3354589        \n"
     ]
    },
    {
     "name": "stdout",
     "output_type": "stream",
     "text": [
      "Test  Epoch: 18/100 [16] PSNR: 33.9864, pixel error: 0.5414 DCT error: 7.3772                   \n"
     ]
    },
    {
     "name": "stderr",
     "output_type": "stream",
     "text": [
      "Train Epoch: 19/100 [16] Average loss: 11.3191163        \n"
     ]
    },
    {
     "name": "stdout",
     "output_type": "stream",
     "text": [
      "Test  Epoch: 19/100 [16] PSNR: 34.3726, pixel error: 0.4967 DCT error: 7.3761                   \n"
     ]
    },
    {
     "name": "stderr",
     "output_type": "stream",
     "text": [
      "Train Epoch: 20/100 [19] Average loss: 11.3002845        \n"
     ]
    },
    {
     "name": "stdout",
     "output_type": "stream",
     "text": [
      "Test  Epoch: 20/100 [19] PSNR: 34.3214, pixel error: 0.4909 DCT error: 7.3638                   \n"
     ]
    },
    {
     "name": "stderr",
     "output_type": "stream",
     "text": [
      "Train Epoch: 21/100 [20] Average loss: 11.2848641        \n"
     ]
    },
    {
     "name": "stdout",
     "output_type": "stream",
     "text": [
      "Test  Epoch: 21/100 [20] PSNR: 34.1869, pixel error: 0.5205 DCT error: 7.3557                   \n"
     ]
    },
    {
     "name": "stderr",
     "output_type": "stream",
     "text": [
      "Train Epoch: 22/100 [20] Average loss: 11.2698357        \n"
     ]
    },
    {
     "name": "stdout",
     "output_type": "stream",
     "text": [
      "Test  Epoch: 22/100 [20] PSNR: 33.4583, pixel error: 0.6138 DCT error: 7.4715                   \n"
     ]
    },
    {
     "name": "stderr",
     "output_type": "stream",
     "text": [
      "Train Epoch: 23/100 [20] Average loss: 11.2534461        \n"
     ]
    },
    {
     "name": "stdout",
     "output_type": "stream",
     "text": [
      "Test  Epoch: 23/100 [20] PSNR: 34.3145, pixel error: 0.4981 DCT error: 7.3424                   \n"
     ]
    },
    {
     "name": "stderr",
     "output_type": "stream",
     "text": [
      "Train Epoch: 24/100 [23] Average loss: 11.2481757        \n"
     ]
    },
    {
     "name": "stdout",
     "output_type": "stream",
     "text": [
      "Test  Epoch: 24/100 [23] PSNR: 33.7903, pixel error: 0.6475 DCT error: 7.3446                   \n"
     ]
    },
    {
     "name": "stderr",
     "output_type": "stream",
     "text": [
      "Train Epoch: 25/100 [23] Average loss: 11.2330602        \n"
     ]
    },
    {
     "name": "stdout",
     "output_type": "stream",
     "text": [
      "Test  Epoch: 25/100 [23] PSNR: 34.0513, pixel error: 0.5442 DCT error: 7.3382                   \n"
     ]
    },
    {
     "name": "stderr",
     "output_type": "stream",
     "text": [
      "Train Epoch: 26/100 [23] Average loss: 11.2255899        \n"
     ]
    },
    {
     "name": "stdout",
     "output_type": "stream",
     "text": [
      "Test  Epoch: 26/100 [23] PSNR: 33.4364, pixel error: 0.6302 DCT error: 7.3283                   \n"
     ]
    },
    {
     "name": "stderr",
     "output_type": "stream",
     "text": [
      "Train Epoch: 27/100 [23] Average loss: 11.2045482        \n"
     ]
    },
    {
     "name": "stdout",
     "output_type": "stream",
     "text": [
      "Test  Epoch: 27/100 [23] PSNR: 34.4459, pixel error: 0.4812 DCT error: 7.3408                   \n"
     ]
    },
    {
     "name": "stderr",
     "output_type": "stream",
     "text": [
      "Train Epoch: 28/100 [27] Average loss: 11.1991789        \n"
     ]
    },
    {
     "name": "stdout",
     "output_type": "stream",
     "text": [
      "Test  Epoch: 28/100 [27] PSNR: 34.3587, pixel error: 0.5045 DCT error: 7.3169                   \n"
     ]
    },
    {
     "name": "stderr",
     "output_type": "stream",
     "text": [
      "Train Epoch: 29/100 [28] Average loss: 11.1878528        \n"
     ]
    },
    {
     "name": "stdout",
     "output_type": "stream",
     "text": [
      "Test  Epoch: 29/100 [28] PSNR: 34.0859, pixel error: 0.5374 DCT error: 7.3132                   \n"
     ]
    },
    {
     "name": "stderr",
     "output_type": "stream",
     "text": [
      "Train Epoch: 30/100 [28] Average loss: 11.1741771        \n"
     ]
    },
    {
     "name": "stdout",
     "output_type": "stream",
     "text": [
      "Test  Epoch: 30/100 [28] PSNR: 34.4765, pixel error: 0.4881 DCT error: 7.3050                   \n"
     ]
    },
    {
     "name": "stderr",
     "output_type": "stream",
     "text": [
      "Train Epoch: 31/100 [30] Average loss: 11.1687678        \n"
     ]
    },
    {
     "name": "stdout",
     "output_type": "stream",
     "text": [
      "Test  Epoch: 31/100 [30] PSNR: 34.0667, pixel error: 0.5296 DCT error: 7.3083                   \n"
     ]
    },
    {
     "name": "stderr",
     "output_type": "stream",
     "text": [
      "Train Epoch: 32/100 [30] Average loss: 11.1532770        \n"
     ]
    },
    {
     "name": "stdout",
     "output_type": "stream",
     "text": [
      "Test  Epoch: 32/100 [30] PSNR: 34.3994, pixel error: 0.4941 DCT error: 7.3006                   \n"
     ]
    },
    {
     "name": "stderr",
     "output_type": "stream",
     "text": [
      "Train Epoch: 33/100 [30] Average loss: 11.1452581        \n"
     ]
    },
    {
     "name": "stdout",
     "output_type": "stream",
     "text": [
      "Test  Epoch: 33/100 [30] PSNR: 34.1979, pixel error: 0.5513 DCT error: 7.4030                   \n"
     ]
    },
    {
     "name": "stderr",
     "output_type": "stream",
     "text": [
      "Train Epoch: 34/100 [30] Average loss: 11.1429383        \n"
     ]
    },
    {
     "name": "stdout",
     "output_type": "stream",
     "text": [
      "Test  Epoch: 34/100 [30] PSNR: 34.3821, pixel error: 0.5040 DCT error: 7.3256                   \n"
     ]
    },
    {
     "name": "stderr",
     "output_type": "stream",
     "text": [
      "Train Epoch: 35/100 [30] Average loss: 11.1251734        \n"
     ]
    },
    {
     "name": "stdout",
     "output_type": "stream",
     "text": [
      "Test  Epoch: 35/100 [30] PSNR: 34.2839, pixel error: 0.5247 DCT error: 7.2908                   \n"
     ]
    },
    {
     "name": "stderr",
     "output_type": "stream",
     "text": [
      "Train Epoch: 36/100 [30] Average loss: 11.1196787        \n"
     ]
    },
    {
     "name": "stdout",
     "output_type": "stream",
     "text": [
      "Test  Epoch: 36/100 [30] PSNR: 34.5029, pixel error: 0.4892 DCT error: 7.2852                   \n"
     ]
    },
    {
     "name": "stderr",
     "output_type": "stream",
     "text": [
      "Train Epoch: 37/100 [36] Average loss: 11.1111973        \n"
     ]
    },
    {
     "name": "stdout",
     "output_type": "stream",
     "text": [
      "Test  Epoch: 37/100 [36] PSNR: 34.3849, pixel error: 0.5023 DCT error: 7.3147                   \n"
     ]
    },
    {
     "name": "stderr",
     "output_type": "stream",
     "text": [
      "Train Epoch: 38/100 [36] Average loss: 11.1053955        \n"
     ]
    },
    {
     "name": "stdout",
     "output_type": "stream",
     "text": [
      "Test  Epoch: 38/100 [36] PSNR: 34.1733, pixel error: 0.5170 DCT error: 7.3152                   \n"
     ]
    },
    {
     "name": "stderr",
     "output_type": "stream",
     "text": [
      "Train Epoch: 39/100 [36] Average loss: 11.1051833        \n"
     ]
    },
    {
     "name": "stdout",
     "output_type": "stream",
     "text": [
      "Test  Epoch: 39/100 [36] PSNR: 33.9871, pixel error: 0.5460 DCT error: 7.3071                   \n"
     ]
    },
    {
     "name": "stderr",
     "output_type": "stream",
     "text": [
      "Train Epoch: 40/100 [36] Average loss: 11.0929552        \n"
     ]
    },
    {
     "name": "stdout",
     "output_type": "stream",
     "text": [
      "Test  Epoch: 40/100 [36] PSNR: 34.0120, pixel error: 0.5860 DCT error: 7.2938                   \n"
     ]
    },
    {
     "name": "stderr",
     "output_type": "stream",
     "text": [
      "Train Epoch: 41/100 [36] Average loss: 11.0837073        \n"
     ]
    },
    {
     "name": "stdout",
     "output_type": "stream",
     "text": [
      "Test  Epoch: 41/100 [36] PSNR: 34.4167, pixel error: 0.4972 DCT error: 7.3073                   \n"
     ]
    },
    {
     "name": "stderr",
     "output_type": "stream",
     "text": [
      "Train Epoch: 42/100 [36] Average loss: 11.087323         \n"
     ]
    },
    {
     "name": "stdout",
     "output_type": "stream",
     "text": [
      "Test  Epoch: 42/100 [36] PSNR: 34.6401, pixel error: 0.4696 DCT error: 7.2787                   \n"
     ]
    },
    {
     "name": "stderr",
     "output_type": "stream",
     "text": [
      "Train Epoch: 43/100 [42] Average loss: 11.0835337        \n"
     ]
    },
    {
     "name": "stdout",
     "output_type": "stream",
     "text": [
      "Test  Epoch: 43/100 [42] PSNR: 34.1908, pixel error: 0.5178 DCT error: 7.3750                   \n"
     ]
    },
    {
     "name": "stderr",
     "output_type": "stream",
     "text": [
      "Train Epoch: 44/100 [42] Average loss: 11.0690511        \n"
     ]
    },
    {
     "name": "stdout",
     "output_type": "stream",
     "text": [
      "Test  Epoch: 44/100 [42] PSNR: 34.5593, pixel error: 0.4806 DCT error: 7.2841                   \n"
     ]
    },
    {
     "name": "stderr",
     "output_type": "stream",
     "text": [
      "Train Epoch: 45/100 [42] Average loss: 11.0700125        \n"
     ]
    },
    {
     "name": "stdout",
     "output_type": "stream",
     "text": [
      "Test  Epoch: 45/100 [42] PSNR: 34.6431, pixel error: 0.4702 DCT error: 7.2834                   \n"
     ]
    },
    {
     "name": "stderr",
     "output_type": "stream",
     "text": [
      "Train Epoch: 46/100 [42] Average loss: 11.063843         \n"
     ]
    },
    {
     "name": "stdout",
     "output_type": "stream",
     "text": [
      "Test  Epoch: 46/100 [42] PSNR: 34.3255, pixel error: 0.5132 DCT error: 7.4083                   \n"
     ]
    },
    {
     "name": "stderr",
     "output_type": "stream",
     "text": [
      "Train Epoch: 47/100 [42] Average loss: 11.0607329        \n"
     ]
    },
    {
     "name": "stdout",
     "output_type": "stream",
     "text": [
      "Test  Epoch: 47/100 [42] PSNR: 34.4609, pixel error: 0.5041 DCT error: 7.3044                   \n"
     ]
    },
    {
     "name": "stderr",
     "output_type": "stream",
     "text": [
      "Train Epoch: 48/100 [42] Average loss: 11.0505395        \n"
     ]
    },
    {
     "name": "stdout",
     "output_type": "stream",
     "text": [
      "Test  Epoch: 48/100 [42] PSNR: 34.5843, pixel error: 0.4856 DCT error: 7.3141                   \n"
     ]
    },
    {
     "name": "stderr",
     "output_type": "stream",
     "text": [
      "Train Epoch: 49/100 [42] Average loss: 11.0524986        \n"
     ]
    },
    {
     "name": "stdout",
     "output_type": "stream",
     "text": [
      "Test  Epoch: 49/100 [42] PSNR: 34.3325, pixel error: 0.5782 DCT error: 7.2977                   \n"
     ]
    },
    {
     "name": "stderr",
     "output_type": "stream",
     "text": [
      "Train Epoch: 50/100 [42] Average loss: 11.0430947        \n"
     ]
    },
    {
     "name": "stdout",
     "output_type": "stream",
     "text": [
      "Test  Epoch: 50/100 [42] PSNR: 34.6707, pixel error: 0.4741 DCT error: 7.2990                   \n"
     ]
    },
    {
     "name": "stderr",
     "output_type": "stream",
     "text": [
      "Train Epoch: 51/100 [42] Average loss: 11.0361940        \n"
     ]
    },
    {
     "name": "stdout",
     "output_type": "stream",
     "text": [
      "Test  Epoch: 51/100 [42] PSNR: 34.0327, pixel error: 0.5420 DCT error: 7.2996                   \n"
     ]
    },
    {
     "name": "stderr",
     "output_type": "stream",
     "text": [
      "Train Epoch: 52/100 [42] Average loss: 11.0371158        \n"
     ]
    },
    {
     "name": "stdout",
     "output_type": "stream",
     "text": [
      "Test  Epoch: 52/100 [42] PSNR: 34.6098, pixel error: 0.5022 DCT error: 7.2912                   \n"
     ]
    },
    {
     "name": "stderr",
     "output_type": "stream",
     "text": [
      "Train Epoch: 53/100 [42] Average loss: 11.0311823        \n"
     ]
    },
    {
     "name": "stdout",
     "output_type": "stream",
     "text": [
      "Test  Epoch: 53/100 [42] PSNR: 34.6930, pixel error: 0.4751 DCT error: 7.2810                   \n"
     ]
    },
    {
     "name": "stderr",
     "output_type": "stream",
     "text": [
      "Train Epoch: 54/100 [42] Average loss: 11.0250169        \n"
     ]
    },
    {
     "name": "stdout",
     "output_type": "stream",
     "text": [
      "Test  Epoch: 54/100 [42] PSNR: 34.5709, pixel error: 0.4856 DCT error: 7.3121                   \n"
     ]
    },
    {
     "name": "stderr",
     "output_type": "stream",
     "text": [
      "Train Epoch: 55/100 [42] Average loss: 11.0202220        \n"
     ]
    },
    {
     "name": "stdout",
     "output_type": "stream",
     "text": [
      "Test  Epoch: 55/100 [42] PSNR: 34.2404, pixel error: 0.5673 DCT error: 7.2845                   \n"
     ]
    },
    {
     "name": "stderr",
     "output_type": "stream",
     "text": [
      "Train Epoch: 56/100 [42] Average loss: 11.0170994        \n"
     ]
    },
    {
     "name": "stdout",
     "output_type": "stream",
     "text": [
      "Test  Epoch: 56/100 [42] PSNR: 34.1730, pixel error: 0.5740 DCT error: 7.3004                   \n"
     ]
    },
    {
     "name": "stderr",
     "output_type": "stream",
     "text": [
      "Train Epoch: 57/100 [42] Average loss: 11.006244         \n"
     ]
    },
    {
     "name": "stdout",
     "output_type": "stream",
     "text": [
      "Test  Epoch: 57/100 [42] PSNR: 34.4656, pixel error: 0.5329 DCT error: 7.3384                   \n"
     ]
    },
    {
     "name": "stderr",
     "output_type": "stream",
     "text": [
      "Train Epoch: 58/100 [42] Average loss: 11.0042813        \n"
     ]
    },
    {
     "name": "stdout",
     "output_type": "stream",
     "text": [
      "Test  Epoch: 58/100 [42] PSNR: 34.7616, pixel error: 0.4743 DCT error: 7.2786                   \n"
     ]
    },
    {
     "name": "stderr",
     "output_type": "stream",
     "text": [
      "Train Epoch: 59/100 [42] Average loss: 11.0054807        \n"
     ]
    },
    {
     "name": "stdout",
     "output_type": "stream",
     "text": [
      "Test  Epoch: 59/100 [42] PSNR: 34.4814, pixel error: 0.5021 DCT error: 7.3081                   \n"
     ]
    },
    {
     "name": "stderr",
     "output_type": "stream",
     "text": [
      "Train Epoch: 60/100 [42] Average loss: 11.0086756        \n"
     ]
    },
    {
     "name": "stdout",
     "output_type": "stream",
     "text": [
      "Test  Epoch: 60/100 [42] PSNR: 34.5007, pixel error: 0.5035 DCT error: 7.3114                   \n"
     ]
    },
    {
     "name": "stderr",
     "output_type": "stream",
     "text": [
      "Train Epoch: 61/100 [42] Average loss: 11.0009008        \n"
     ]
    },
    {
     "name": "stdout",
     "output_type": "stream",
     "text": [
      "Test  Epoch: 61/100 [42] PSNR: 34.6153, pixel error: 0.4836 DCT error: 7.3318                   \n"
     ]
    },
    {
     "name": "stderr",
     "output_type": "stream",
     "text": [
      "Train Epoch: 62/100 [42] Average loss: 10.9987570        \n"
     ]
    },
    {
     "name": "stdout",
     "output_type": "stream",
     "text": [
      "Test  Epoch: 62/100 [42] PSNR: 34.5709, pixel error: 0.4974 DCT error: 7.2792                   \n"
     ]
    },
    {
     "name": "stderr",
     "output_type": "stream",
     "text": [
      "Train Epoch: 63/100 [42] Average loss: 10.984902         \n"
     ]
    },
    {
     "name": "stdout",
     "output_type": "stream",
     "text": [
      "Test  Epoch: 63/100 [42] PSNR: 34.5628, pixel error: 0.5074 DCT error: 7.2824                   \n"
     ]
    },
    {
     "name": "stderr",
     "output_type": "stream",
     "text": [
      "Train Epoch: 64/100 [42] Average loss: 10.9899992        \n"
     ]
    },
    {
     "name": "stdout",
     "output_type": "stream",
     "text": [
      "Test  Epoch: 64/100 [42] PSNR: 34.7555, pixel error: 0.4819 DCT error: 7.3166                   \n"
     ]
    },
    {
     "name": "stderr",
     "output_type": "stream",
     "text": [
      "Train Epoch: 65/100 [42] Average loss: 10.9920797        \n"
     ]
    },
    {
     "name": "stdout",
     "output_type": "stream",
     "text": [
      "Test  Epoch: 65/100 [42] PSNR: 34.8018, pixel error: 0.4721 DCT error: 7.3050                   \n"
     ]
    },
    {
     "name": "stderr",
     "output_type": "stream",
     "text": [
      "Train Epoch: 66/100 [42] Average loss: 10.9883149        \n"
     ]
    },
    {
     "name": "stdout",
     "output_type": "stream",
     "text": [
      "Test  Epoch: 66/100 [42] PSNR: 34.7579, pixel error: 0.4802 DCT error: 7.2832                   \n"
     ]
    },
    {
     "name": "stderr",
     "output_type": "stream",
     "text": [
      "Train Epoch: 67/100 [42] Average loss: 10.9823324        \n"
     ]
    },
    {
     "name": "stdout",
     "output_type": "stream",
     "text": [
      "Test  Epoch: 67/100 [42] PSNR: 34.6785, pixel error: 0.5019 DCT error: 7.3110                   \n"
     ]
    },
    {
     "name": "stderr",
     "output_type": "stream",
     "text": [
      "Train Epoch: 68/100 [42] Average loss: 10.9719067        \n"
     ]
    },
    {
     "name": "stdout",
     "output_type": "stream",
     "text": [
      "Test  Epoch: 68/100 [42] PSNR: 34.9233, pixel error: 0.4605 DCT error: 7.3018                   \n"
     ]
    },
    {
     "name": "stderr",
     "output_type": "stream",
     "text": [
      "Train Epoch: 69/100 [42] Average loss: 10.9713479        \n"
     ]
    },
    {
     "name": "stdout",
     "output_type": "stream",
     "text": [
      "Test  Epoch: 69/100 [42] PSNR: 34.7983, pixel error: 0.4865 DCT error: 7.2969                   \n"
     ]
    },
    {
     "name": "stderr",
     "output_type": "stream",
     "text": [
      "Train Epoch: 70/100 [42] Average loss: 10.9667352        \n"
     ]
    },
    {
     "name": "stdout",
     "output_type": "stream",
     "text": [
      "Test  Epoch: 70/100 [42] PSNR: 34.7430, pixel error: 0.4843 DCT error: 7.3850                   \n"
     ]
    },
    {
     "name": "stderr",
     "output_type": "stream",
     "text": [
      "Train Epoch: 71/100 [42] Average loss: 10.9552549        \n"
     ]
    },
    {
     "name": "stdout",
     "output_type": "stream",
     "text": [
      "Test  Epoch: 71/100 [42] PSNR: 34.8759, pixel error: 0.4702 DCT error: 7.3840                   \n"
     ]
    },
    {
     "name": "stderr",
     "output_type": "stream",
     "text": [
      "Train Epoch: 72/100 [42] Average loss: 10.9553069        \n"
     ]
    },
    {
     "name": "stdout",
     "output_type": "stream",
     "text": [
      "Test  Epoch: 72/100 [42] PSNR: 35.0291, pixel error: 0.4678 DCT error: 7.2904                   \n"
     ]
    },
    {
     "name": "stderr",
     "output_type": "stream",
     "text": [
      "Train Epoch: 73/100 [42] Average loss: 10.9570105        \n"
     ]
    },
    {
     "name": "stdout",
     "output_type": "stream",
     "text": [
      "Test  Epoch: 73/100 [42] PSNR: 34.7880, pixel error: 0.4879 DCT error: 7.2981                   \n"
     ]
    },
    {
     "name": "stderr",
     "output_type": "stream",
     "text": [
      "Train Epoch: 74/100 [42] Average loss: 10.9541978        \n"
     ]
    },
    {
     "name": "stdout",
     "output_type": "stream",
     "text": [
      "Test  Epoch: 74/100 [42] PSNR: 34.6559, pixel error: 0.5109 DCT error: 7.2929                   \n"
     ]
    },
    {
     "name": "stderr",
     "output_type": "stream",
     "text": [
      "Train Epoch: 75/100 [42] Average loss: 10.9420786        \n"
     ]
    },
    {
     "name": "stdout",
     "output_type": "stream",
     "text": [
      "Test  Epoch: 75/100 [42] PSNR: 35.0787, pixel error: 0.4608 DCT error: 7.3575                   \n"
     ]
    },
    {
     "name": "stderr",
     "output_type": "stream",
     "text": [
      "Train Epoch: 76/100 [42] Average loss: 10.9484456        \n"
     ]
    },
    {
     "name": "stdout",
     "output_type": "stream",
     "text": [
      "Test  Epoch: 76/100 [42] PSNR: 35.1780, pixel error: 0.4430 DCT error: 7.3081                   \n"
     ]
    },
    {
     "name": "stderr",
     "output_type": "stream",
     "text": [
      "Train Epoch: 77/100 [42] Average loss: 10.9389561        \n"
     ]
    },
    {
     "name": "stdout",
     "output_type": "stream",
     "text": [
      "Test  Epoch: 77/100 [42] PSNR: 34.8313, pixel error: 0.4872 DCT error: 7.2929                   \n"
     ]
    },
    {
     "name": "stderr",
     "output_type": "stream",
     "text": [
      "Train Epoch: 78/100 [42] Average loss: 10.940254         \n"
     ]
    },
    {
     "name": "stdout",
     "output_type": "stream",
     "text": [
      "Test  Epoch: 78/100 [42] PSNR: 35.0729, pixel error: 0.4568 DCT error: 7.3095                   \n"
     ]
    },
    {
     "name": "stderr",
     "output_type": "stream",
     "text": [
      "Train Epoch: 79/100 [42] Average loss: 10.9364339        \n"
     ]
    },
    {
     "name": "stdout",
     "output_type": "stream",
     "text": [
      "Test  Epoch: 79/100 [42] PSNR: 34.8847, pixel error: 0.4934 DCT error: 7.2906                   \n"
     ]
    },
    {
     "name": "stderr",
     "output_type": "stream",
     "text": [
      "Train Epoch: 80/100 [42] Average loss: 10.9387160        \n"
     ]
    },
    {
     "name": "stdout",
     "output_type": "stream",
     "text": [
      "Test  Epoch: 80/100 [42] PSNR: 34.5220, pixel error: 0.5406 DCT error: 7.3658                   \n"
     ]
    },
    {
     "name": "stderr",
     "output_type": "stream",
     "text": [
      "Train Epoch: 81/100 [42] Average loss: 10.9314315        \n"
     ]
    },
    {
     "name": "stdout",
     "output_type": "stream",
     "text": [
      "Test  Epoch: 81/100 [42] PSNR: 35.1722, pixel error: 0.4526 DCT error: 7.2895                   \n"
     ]
    },
    {
     "name": "stderr",
     "output_type": "stream",
     "text": [
      "Train Epoch: 82/100 [81] Average loss: 10.9348189        \n"
     ]
    },
    {
     "name": "stdout",
     "output_type": "stream",
     "text": [
      "Test  Epoch: 82/100 [81] PSNR: 34.4014, pixel error: 0.5566 DCT error: 7.2889                   \n"
     ]
    },
    {
     "name": "stderr",
     "output_type": "stream",
     "text": [
      "Train Epoch: 83/100 [81] Average loss: 10.9227775        \n"
     ]
    },
    {
     "name": "stdout",
     "output_type": "stream",
     "text": [
      "Test  Epoch: 83/100 [81] PSNR: 34.8297, pixel error: 0.5040 DCT error: 7.3084                   \n"
     ]
    },
    {
     "name": "stderr",
     "output_type": "stream",
     "text": [
      "Train Epoch: 84/100 [81] Average loss: 10.9218828        \n"
     ]
    },
    {
     "name": "stdout",
     "output_type": "stream",
     "text": [
      "Test  Epoch: 84/100 [81] PSNR: 35.2456, pixel error: 0.4508 DCT error: 7.3059                   \n"
     ]
    },
    {
     "name": "stderr",
     "output_type": "stream",
     "text": [
      "Train Epoch: 85/100 [81] Average loss: 10.9207034        \n"
     ]
    },
    {
     "name": "stdout",
     "output_type": "stream",
     "text": [
      "Test  Epoch: 85/100 [81] PSNR: 34.9247, pixel error: 0.4866 DCT error: 7.2987                   \n"
     ]
    },
    {
     "name": "stderr",
     "output_type": "stream",
     "text": [
      "Train Epoch: 86/100 [81] Average loss: 10.9166460        \n"
     ]
    },
    {
     "name": "stdout",
     "output_type": "stream",
     "text": [
      "Test  Epoch: 86/100 [81] PSNR: 35.2832, pixel error: 0.4500 DCT error: 7.3376                   \n"
     ]
    },
    {
     "name": "stderr",
     "output_type": "stream",
     "text": [
      "Train Epoch: 87/100 [81] Average loss: 10.9133646        \n"
     ]
    },
    {
     "name": "stdout",
     "output_type": "stream",
     "text": [
      "Test  Epoch: 87/100 [81] PSNR: 35.1311, pixel error: 0.4659 DCT error: 7.2966                   \n"
     ]
    },
    {
     "name": "stderr",
     "output_type": "stream",
     "text": [
      "Train Epoch: 88/100 [81] Average loss: 10.9162053        \n"
     ]
    },
    {
     "name": "stdout",
     "output_type": "stream",
     "text": [
      "Test  Epoch: 88/100 [81] PSNR: 34.6840, pixel error: 0.5310 DCT error: 7.2927                   \n"
     ]
    },
    {
     "name": "stderr",
     "output_type": "stream",
     "text": [
      "Train Epoch: 89/100 [81] Average loss: 10.9104341        \n"
     ]
    },
    {
     "name": "stdout",
     "output_type": "stream",
     "text": [
      "Test  Epoch: 89/100 [81] PSNR: 34.7500, pixel error: 0.5853 DCT error: 7.3475                   \n"
     ]
    },
    {
     "name": "stderr",
     "output_type": "stream",
     "text": [
      "Train Epoch: 90/100 [81] Average loss: 10.9162558        \n"
     ]
    },
    {
     "name": "stdout",
     "output_type": "stream",
     "text": [
      "Test  Epoch: 90/100 [81] PSNR: 35.3742, pixel error: 0.4542 DCT error: 7.2802                   \n"
     ]
    },
    {
     "name": "stderr",
     "output_type": "stream",
     "text": [
      "Train Epoch: 91/100 [90] Average loss: 10.9075711        \n"
     ]
    },
    {
     "name": "stdout",
     "output_type": "stream",
     "text": [
      "Test  Epoch: 91/100 [90] PSNR: 34.7088, pixel error: 0.5215 DCT error: 7.3000                   \n"
     ]
    },
    {
     "name": "stderr",
     "output_type": "stream",
     "text": [
      "Train Epoch: 92/100 [90] Average loss: 10.9103275        \n"
     ]
    },
    {
     "name": "stdout",
     "output_type": "stream",
     "text": [
      "Test  Epoch: 92/100 [90] PSNR: 35.3924, pixel error: 0.4404 DCT error: 7.3128                   \n"
     ]
    },
    {
     "name": "stderr",
     "output_type": "stream",
     "text": [
      "Train Epoch: 93/100 [90] Average loss: 10.9007983        \n"
     ]
    },
    {
     "name": "stdout",
     "output_type": "stream",
     "text": [
      "Test  Epoch: 93/100 [90] PSNR: 34.9860, pixel error: 0.5150 DCT error: 7.3108                   \n"
     ]
    },
    {
     "name": "stderr",
     "output_type": "stream",
     "text": [
      "Train Epoch: 94/100 [90] Average loss: 10.8905070        \n"
     ]
    },
    {
     "name": "stdout",
     "output_type": "stream",
     "text": [
      "Test  Epoch: 94/100 [90] PSNR: 34.9344, pixel error: 0.4990 DCT error: 7.3008                   \n"
     ]
    },
    {
     "name": "stderr",
     "output_type": "stream",
     "text": [
      "Train Epoch: 95/100 [90] Average loss: 10.8956693        \n"
     ]
    },
    {
     "name": "stdout",
     "output_type": "stream",
     "text": [
      "Test  Epoch: 95/100 [90] PSNR: 35.3276, pixel error: 0.4515 DCT error: 7.2850                   \n"
     ]
    },
    {
     "name": "stderr",
     "output_type": "stream",
     "text": [
      "Train Epoch: 96/100 [90] Average loss: 10.8972667        \n"
     ]
    },
    {
     "name": "stdout",
     "output_type": "stream",
     "text": [
      "Test  Epoch: 96/100 [90] PSNR: 35.0067, pixel error: 0.4816 DCT error: 7.2890                   \n"
     ]
    },
    {
     "name": "stderr",
     "output_type": "stream",
     "text": [
      "Train Epoch: 97/100 [90] Average loss: 10.8855272        \n"
     ]
    },
    {
     "name": "stdout",
     "output_type": "stream",
     "text": [
      "Test  Epoch: 97/100 [90] PSNR: 35.3850, pixel error: 0.4498 DCT error: 7.2988                   \n"
     ]
    },
    {
     "name": "stderr",
     "output_type": "stream",
     "text": [
      "Train Epoch: 98/100 [90] Average loss: 10.8863785        \n"
     ]
    },
    {
     "name": "stdout",
     "output_type": "stream",
     "text": [
      "Test  Epoch: 98/100 [90] PSNR: 35.2523, pixel error: 0.4662 DCT error: 7.2828                   \n"
     ]
    },
    {
     "name": "stderr",
     "output_type": "stream",
     "text": [
      "Train Epoch: 99/100 [90] Average loss: 10.8877313        \n"
     ]
    },
    {
     "name": "stdout",
     "output_type": "stream",
     "text": [
      "Test  Epoch: 99/100 [90] PSNR: 35.0815, pixel error: 0.4693 DCT error: 7.2991                   \n"
     ]
    },
    {
     "name": "stderr",
     "output_type": "stream",
     "text": [
      "Train Epoch: 100/100 [90] Average loss: 10.8835863        \n"
     ]
    },
    {
     "name": "stdout",
     "output_type": "stream",
     "text": [
      "Test  Epoch: 100/100 [90] PSNR: 35.4183, pixel error: 0.4420 DCT error: 7.2841                   \n"
     ]
    },
    {
     "data": {
      "image/png": "[encoded data removed]",
      "text/plain": [
       "<Figure size 432x288 with 1 Axes>"
      ]
     },
     "metadata": {
      "needs_background": "light"
     },
     "output_type": "display_data"
    }
   ],
   "source": [
    "\n",
    "model = JDCTNet().to(device)\n",
    "optimizer = Adam(model.parameters(), lr=1e-3)\n",
    "\n",
    "hist_psnr = []\n",
    "hist_err_px = []\n",
    "hist_err_dct = []\n",
    "best_epoch = None\n",
    "best_cond = 0\n",
    "\n",
    "model.train()\n",
    "for epoch in range(EPOCHS):\n",
    "    train_loss = 0\n",
    "    str_epoch = f'Epoch: {epoch+1}/{EPOCHS} [{best_epoch}]'\n",
    "    for batch_idx, (x, y) in enumerate(loader):\n",
    "        x = Variable(x).to(device)\n",
    "        y = Variable(y).to(device)\n",
    "        optimizer.zero_grad()\n",
    "        r, c = model(x)\n",
    "        loss = F.l1_loss(x, r) + F.l1_loss(c, y)\n",
    "        train_loss += loss.data.item()\n",
    "        loss.backward()\n",
    "        optimizer.step()\n",
    "        sys.stderr.write(f'==>   {str_epoch} - ' + \n",
    "                         f'{batch_idx * BATCH_SIZE * 100 / len(train_dataset):.2f}% ' +\n",
    "                         f'loss: {loss.data.item():.6f}        \\r')\n",
    "    \n",
    "    train_loss /= (batch_idx + 1)\n",
    "    sys.stderr.write(f'Train {str_epoch} Average loss: {train_loss:.6f}\\n')\n",
    "\n",
    "    model.eval()\n",
    "    psnr, err_px, err_dct = 0, 0, 0\n",
    "    for i in range(len(test_dataset)):\n",
    "        patches, dcts = test_dataset[i]\n",
    "        re_px, re_dct = predict_image(model, patches, BATCH_SIZE*10)\n",
    "        _psnr, _e_px, _e_dct = estimate_image(re_px, re_dct, patches, dcts, \n",
    "                                              test_dataset.rects[i], test_dataset.images[i])\n",
    "        psnr += _psnr\n",
    "        err_px += _e_px\n",
    "        err_dct += _e_dct\n",
    "        sys.stdout.write(f'==>   {str_epoch} - ' +\n",
    "                         f'{(i+1)*100/len(test_dataset):.2f}% ' +\n",
    "                         f'PSNR: {_psnr:.4f}, pixel error: {_e_px:.4f} DCT error: {_e_dct:.4f}         \\r')\n",
    "        \n",
    "    psnr /= len(test_dataset)\n",
    "    err_px /= len(test_dataset)\n",
    "    err_dct /= len(test_dataset)\n",
    "    hist_psnr.append(psnr)\n",
    "    hist_err_px.append(err_px)\n",
    "    hist_err_dct.append(err_dct)\n",
    "    print(f'Test  {str_epoch} ' + \n",
    "          f'PSNR: {psnr:.4f}, pixel error: {err_px:.4f} DCT error: {err_dct:.4f}                  ')\n",
    "    \n",
    "    cond = err_px + err_dct\n",
    "    if best_epoch is None or cond < best_cond:\n",
    "        best_cond = cond\n",
    "        best_epoch = epoch + 1\n",
    "        torch.save(model.state_dict(), MODEL_FILE)\n",
    "\n",
    "plt.plot(hist_psnr, label='PSNR')\n",
    "plt.plot(hist_err_px, label='pixel error')\n",
    "plt.plot(hist_err_dct, label='DCT error')\n",
    "plt.legend()\n",
    "plt.show()\n"
   ]
  },
  {
   "cell_type": "markdown",
   "metadata": {},
   "source": [
    "## Simulation Results\n",
    "\n",
    "We select one image from the Kodak dataset and see the approximation result. The original image and reconstructed image of PSNR 36.54 are listed below. Ten 8x8 blocks are randomly selected from the image for a detailed comparison. Although the DCT approximation error is a bit higher as 7.2802, the obtained latent code does mimic the energy compaction effect of the DCT transform. "
   ]
  },
  {
   "cell_type": "code",
   "execution_count": 70,
   "metadata": {},
   "outputs": [
    {
     "data": {
      "image/png": "[encoded data removed]",
      "text/plain": [
       "<Figure size 864x576 with 2 Axes>"
      ]
     },
     "metadata": {
      "needs_background": "light"
     },
     "output_type": "display_data"
    },
    {
     "data": {
      "image/png": "[encoded data removed]",
      "text/plain": [
       "<Figure size 1152x288 with 20 Axes>"
      ]
     },
     "metadata": {
      "needs_background": "light"
     },
     "output_type": "display_data"
    },
    {
     "name": "stdout",
     "output_type": "stream",
     "text": [
      "DCT block comparison\n",
      "2378 = \n",
      "[[[1118    4    0    0    0    0    1   -1]\n",
      "  [   3    0    1    0    1    0    1    0]\n",
      "  [  -1    0   -1    0    1    0    0    0]\n",
      "  [  -1    0    0    0    1    0    0    1]\n",
      "  [   0    0    0   -1    0    0    0    0]\n",
      "  [   1    0   -1   -1    1    0    0    0]\n",
      "  [   0    1   -1    0    1    0    0    0]\n",
      "  [   0    0    0    0   -1    1    1    1]]\n",
      "\n",
      " [[1116    0    0    0    0   -1    0   -1]\n",
      "  [   4    1    0    0    0    0    0    0]\n",
      "  [  -5   -6   -6   -6    0    0    0    0]\n",
      "  [   0    0    0    0    0    0    0    0]\n",
      "  [   0    0    0    0    0    0    0    0]\n",
      "  [   0    0    0    0    0    0    0    0]\n",
      "  [   0    0    0    0    0    0    0    0]\n",
      "  [   0    0    0    0    0    0    0    0]]]\n",
      "75 = \n",
      "[[[781  -7   1   3   0   1   0   0]\n",
      "  [  0  -5   0  -1   0   0   0   0]\n",
      "  [ 15  15  -3  -3  -1  -1   0   0]\n",
      "  [ -6   5   2   0   0   0   0   0]\n",
      "  [ -3  -9   1   2   1   0   0   0]\n",
      "  [  0  -4   0   0  -1   0   0   0]\n",
      "  [  2   3  -1  -1   0  -1   0   0]\n",
      "  [  1   4   1   0   0   0  -1   0]]\n",
      "\n",
      " [[775 -16   0   2   1   0   0   0]\n",
      "  [ 23   2  -1   0   0   0   0   0]\n",
      "  [ -1  -3  -4  -4   0   0   0   0]\n",
      "  [  0   0   1  -1   0   0   0   0]\n",
      "  [ -5  -1   0  -1   0   0   0   0]\n",
      "  [ -1   0   0   0   0   0   0   0]\n",
      "  [  0   0   0   0   0   0   0   0]\n",
      "  [  0   0   0   0   0   0   0   0]]]\n"
     ]
    }
   ],
   "source": [
    "\n",
    "model.load_state_dict(torch.load(MODEL_FILE))\n",
    "\n",
    "im_idx = 3\n",
    "patches, dcts = test_dataset[im_idx]\n",
    "model.eval()\n",
    "re_px, re_dct = predict_image(model, patches, BATCH_SIZE*10)\n",
    "im = reconstruct_image(re_px, test_dataset.rects[im_idx], test_dataset.images[im_idx].size)\n",
    "psnr, e_px, e_dct = estimate_image(re_px, re_dct, patches, dcts, test_dataset.rects[im_idx], \n",
    "                                   test_dataset.images[im_idx])\n",
    "\n",
    "figure, axis = plt.subplots(1, 2, figsize=(12,8))\n",
    "axis[0].set_title('Original')\n",
    "axis[0].imshow(test_dataset.images[im_idx], cmap='gray')\n",
    "axis[0].get_xaxis().set_visible(False)\n",
    "axis[0].get_yaxis().set_visible(False)\n",
    "axis[1].set_title(f'Reconstruct, PSNR={psnr:.2f}')\n",
    "axis[1].imshow(im, cmap='gray')\n",
    "axis[1].get_xaxis().set_visible(False)\n",
    "axis[1].get_yaxis().set_visible(False)\n",
    "plt.show()\n",
    "\n",
    "COMP_COL = 10\n",
    "sel = [i for i in range(len(re_px))]\n",
    "random.shuffle(sel)\n",
    "sel = sel[:COMP_COL]\n",
    "\n",
    "figure, axis = plt.subplots(2, COMP_COL, figsize=(16,4))\n",
    "figure.suptitle('Pixel block comparison')\n",
    "for i, idx in enumerate(sel):\n",
    "    px = patches[idx].squeeze(0).cpu().numpy().astype(int)\n",
    "    axis[0][i].set_title(f'O {idx}')\n",
    "    axis[0][i].imshow(px, cmap='gray')\n",
    "    axis[0][i].get_xaxis().set_visible(False)\n",
    "    axis[0][i].get_yaxis().set_visible(False)\n",
    "    axis[1][i].set_title(f'R {idx}')\n",
    "    axis[1][i].imshow(re_px[idx], cmap='gray')\n",
    "    axis[1][i].get_xaxis().set_visible(False)\n",
    "    axis[1][i].get_yaxis().set_visible(False)\n",
    "plt.show()\n",
    "\n",
    "print('DCT block comparison')\n",
    "for i, idx in enumerate(sel[:2]):\n",
    "    dct = dcts[idx].squeeze(0).cpu().numpy().astype(int)\n",
    "    re_dct[idx] = re_dct[idx].astype(int)\n",
    "    comp = np.stack((dct.reshape(BK_SIZE, BK_SIZE), re_dct[idx].reshape(BK_SIZE, BK_SIZE)))\n",
    "    print(f'{idx} = \\n{comp}')"
   ]
  },
  {
   "cell_type": "code",
   "execution_count": null,
   "metadata": {},
   "outputs": [],
   "source": []
  }
 ],
 "metadata": {
  "kernelspec": {
   "display_name": "Python 3",
   "language": "python",
   "name": "python3"
  },
  "language_info": {
   "codemirror_mode": {
    "name": "ipython",
    "version": 3
   },
   "file_extension": ".py",
   "mimetype": "text/x-python",
   "name": "python",
   "nbconvert_exporter": "python",
   "pygments_lexer": "ipython3",
   "version": "3.7.7"
  }
 },
 "nbformat": 4,
 "nbformat_minor": 4
}
